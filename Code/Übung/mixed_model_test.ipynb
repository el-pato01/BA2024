{
 "cells": [
  {
   "cell_type": "code",
   "execution_count": 3,
   "metadata": {},
   "outputs": [],
   "source": [
    "import numpy as np\n",
    "import pandas as pd\n",
    "import statsmodels.api as sm\n",
    "import statsmodels.formula.api as smf\n",
    "import matplotlib.pyplot as plt\n",
    "\n",
    "import torch\n",
    "import torch.nn as nn\n",
    "from torch.optim import Adam\n",
    "from torchmin import minimize"
   ]
  },
  {
   "cell_type": "code",
   "execution_count": 5,
   "metadata": {},
   "outputs": [
    {
     "name": "stdout",
     "output_type": "stream",
     "text": [
      "     patient_id  years_after_treatment  family_affected  sex  test_score\n",
      "0             0               6.934165                1    1   23.412482\n",
      "1             1               6.862036                1    0   19.463645\n",
      "2             2               5.873720                1    1   43.923450\n",
      "3             3               9.018667                0    0   37.071385\n",
      "4             4               5.857655                1    1   38.174593\n",
      "..          ...                    ...              ...  ...         ...\n",
      "195         195               6.390530                1    0   27.337463\n",
      "196         196               8.760204                0    0   43.285878\n",
      "197         197               7.097517                0    1   52.116599\n",
      "198         198               7.152390                1    1   30.861974\n",
      "199         199               9.327538                0    1   29.201576\n",
      "\n",
      "[200 rows x 5 columns]\n"
     ]
    }
   ],
   "source": [
    "# Parameters\n",
    "num_patients = 200\n",
    "\n",
    "#unknown parameters\n",
    "mean_test_score = 40 # fixed intercept\n",
    "b_1 = -8.0 # effect of affected family\n",
    "b_2 = 0.0 # effect of sex \n",
    "noise_var = 0.1 # variance of noise\n",
    "var_time_effect = 1.0\n",
    "var_intercept = 1.0\n",
    "\n",
    "def generate_data(num_patients):\n",
    "    data = []\n",
    "    ground_truth = []\n",
    "    for i in range(num_patients):\n",
    "        time_points = []\n",
    "        while len(time_points) < 5:\n",
    "            length = np.random.uniform(4, 10)\n",
    "            time_points = np.sort([np.random.uniform(0, length) for i in range(int(length) + 2)])\n",
    "            time_points = time_points[np.diff(np.concatenate(([0.], time_points))) > 0.25]\n",
    "        \n",
    "        # draw fixed effect characteristics\n",
    "        family_affected = np.random.binomial(1, 0.6)  # 1 for family affected, 0 for not affected\n",
    "        sex = np.random.binomial(1, 0.5)  # 1 for male, 0 for female   \n",
    "    \n",
    "        # draw random effects\n",
    "        time_effect = np.random.normal(0.0, np.sqrt(var_time_effect))\n",
    "        random_intercept = np.random.normal(0.0, np.sqrt(var_intercept))\n",
    "\n",
    "        for j,t in enumerate(time_points):\n",
    "            # draw noise\n",
    "            noise = np.random.normal(0.0, np.sqrt(noise_var))\n",
    "\n",
    "            # simulate patient trajectories\n",
    "            score = mean_test_score + \\\n",
    "                    b_1 * family_affected + \\\n",
    "                    b_2 * sex + \\\n",
    "                    random_intercept + \\\n",
    "                    time_effect * t + \\\n",
    "                    noise\n",
    "                \n",
    "        data.append([i, t, family_affected, sex, score])\n",
    "        ground_truth.append([i, t, random_intercept, time_effect, noise])\n",
    "    return data\n",
    "\n",
    "df =  pd.DataFrame(generate_data(num_patients), columns=['patient_id', 'years_after_treatment', 'family_affected', 'sex', 'test_score'])\n",
    "print(df)"
   ]
  }
 ],
 "metadata": {
  "kernelspec": {
   "display_name": "torch_env",
   "language": "python",
   "name": "python3"
  },
  "language_info": {
   "codemirror_mode": {
    "name": "ipython",
    "version": 3
   },
   "file_extension": ".py",
   "mimetype": "text/x-python",
   "name": "python",
   "nbconvert_exporter": "python",
   "pygments_lexer": "ipython3",
   "version": "3.8.19"
  }
 },
 "nbformat": 4,
 "nbformat_minor": 2
}
